{
 "cells": [
  {
   "cell_type": "code",
   "execution_count": 27,
   "id": "41e4c82f",
   "metadata": {},
   "outputs": [
    {
     "name": "stdout",
     "output_type": "stream",
     "text": [
      "Overwriting homepage.py\n"
     ]
    }
   ],
   "source": [
    "%%writefile homepage.py\n",
    "import streamlit as st\n",
    "import requests\n",
    "import PIL\n",
    "from PIL import Image\n",
    "\n",
    "\n",
    "\n",
    "st.set_page_config(\n",
    "    page_title=\"Hidden hunger\",\n",
    "    page_icon=\"👁🌿\"\n",
    ")\n",
    "\n",
    "st.title(\"Hidden Hunger Detection\")\n",
    "st.subheader(\"This website is used to find the micronutrient deficiency of human and plants.\")\n",
    "\n",
    "\n",
    "st.write(\"Hidden hunger in human is found by using the images of nails and eyes.The micronutrient deficiency which can deteced for human are iron,iodine,vitamin b12,vitamin d,zinc and healthy\")\n",
    "st.write(\"Hidden hunger in plant is found by using the images of banana leaf.The micronutrient deficiency which can deteced for human are iron,zin,manganese,boron and healthy\")\n",
    "\n",
    "st.sidebar.success(\"Select a page above.\")\n",
    "        \n",
    "def local_css(file_name):\n",
    "    with open(file_name) as f:\n",
    "        st.markdown(f\"<style>{f.read()}</style>\", unsafe_allow_html=True)\n",
    "\n",
    "local_css(\"style/style.css\")\n",
    "\n",
    "\n",
    "# Load the image file\n",
    "image = Image.open(r'D:\\project\\micro.jpg')\n",
    "# Display the image in the Streamlit app\n",
    "st.image(image, use_column_width=True)\n",
    "\n"
   ]
  },
  {
   "cell_type": "code",
   "execution_count": null,
   "id": "b08a30f4",
   "metadata": {},
   "outputs": [],
   "source": []
  },
  {
   "cell_type": "code",
   "execution_count": null,
   "id": "97fd6e91",
   "metadata": {},
   "outputs": [],
   "source": []
  }
 ],
 "metadata": {
  "kernelspec": {
   "display_name": "Python 3 (ipykernel)",
   "language": "python",
   "name": "python3"
  },
  "language_info": {
   "codemirror_mode": {
    "name": "ipython",
    "version": 3
   },
   "file_extension": ".py",
   "mimetype": "text/x-python",
   "name": "python",
   "nbconvert_exporter": "python",
   "pygments_lexer": "ipython3",
   "version": "3.9.12"
  }
 },
 "nbformat": 4,
 "nbformat_minor": 5
}
